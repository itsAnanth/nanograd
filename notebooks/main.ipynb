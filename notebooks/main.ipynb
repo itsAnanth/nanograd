{
 "cells": [
  {
   "cell_type": "code",
   "execution_count": 78,
   "metadata": {},
   "outputs": [],
   "source": [
    "import math\n",
    "import numpy as np\n",
    "import matplotlib.pyplot as plt\n",
    "\n",
    "%matplotlib inline"
   ]
  },
  {
   "cell_type": "code",
   "execution_count": 79,
   "metadata": {},
   "outputs": [
    {
     "data": {
      "text/plain": [
       "20.0"
      ]
     },
     "execution_count": 79,
     "metadata": {},
     "output_type": "execute_result"
    }
   ],
   "source": [
    "def f(x):\n",
    "    return 3*x**2 - 4*x + 5\n",
    "\n",
    "f(3.0)"
   ]
  },
  {
   "cell_type": "code",
   "execution_count": 80,
   "metadata": {},
   "outputs": [
    {
     "data": {
      "text/plain": [
       "[<matplotlib.lines.Line2D at 0x230e7eb1bd0>]"
      ]
     },
     "execution_count": 80,
     "metadata": {},
     "output_type": "execute_result"
    },
    {
     "data": {
      "image/png": "[encoded data removed]",
      "text/plain": [
       "<Figure size 640x480 with 1 Axes>"
      ]
     },
     "metadata": {},
     "output_type": "display_data"
    }
   ],
   "source": [
    "xs = np.linspace(-5, 5, 40).astype(float)\n",
    "ys = f(xs)\n",
    "\n",
    "plt.plot(xs, ys)"
   ]
  },
  {
   "cell_type": "code",
   "execution_count": 81,
   "metadata": {},
   "outputs": [
    {
     "data": {
      "text/plain": [
       "14.00300000000243"
      ]
     },
     "execution_count": 81,
     "metadata": {},
     "output_type": "execute_result"
    }
   ],
   "source": [
    "h = 1e-3\n",
    "x = 3.0\n",
    "(f(x + h) - f(x)) / h"
   ]
  },
  {
   "cell_type": "code",
   "execution_count": 82,
   "metadata": {},
   "outputs": [
    {
     "data": {
      "text/plain": [
       "Value(data=4.0)"
      ]
     },
     "execution_count": 82,
     "metadata": {},
     "output_type": "execute_result"
    }
   ],
   "source": [
    "class Value:\n",
    "    def __init__(self, data, _children=(), _op=''):\n",
    "        self.data = data\n",
    "        self._prev = set(_children)\n",
    "        self._op = _op\n",
    "        \n",
    "    def __repr__(self):\n",
    "        return f\"Value(data={self.data})\"\n",
    "    \n",
    "    def __add__(self, other):\n",
    "        return Value(self.data + other.data, (self, other), '+')\n",
    "    \n",
    "    def __mul__(self, other):\n",
    "        return Value(self.data * other.data, (self, other), '*')\n",
    "    \n",
    "a = Value(2.0)\n",
    "b = Value(-3.0)\n",
    "c = Value(10.0)\n",
    "\n",
    "d = a * b + c\n",
    "d"
   ]
  },
  {
   "cell_type": "code",
   "execution_count": 83,
   "metadata": {},
   "outputs": [],
   "source": [
    "from graphviz import Digraph\n",
    "\n",
    "def trace(root: Value):\n",
    "    nodes, edges = set(), set()\n",
    "    \n",
    "    def build(v: Value):\n",
    "        if v not in nodes:\n",
    "            nodes.add(v)\n",
    "            \n",
    "            for child in v._prev:\n",
    "                edges.add((child, v))\n",
    "                build(child)\n",
    "                \n",
    "    build(root)\n",
    "    return nodes, edges\n",
    "\n",
    "def draw_dot(root):\n",
    "    dot = Digraph(format='svg', graph_attr={ 'rankdir': 'LR' })\n",
    "    nodes, edges = trace(root)\n",
    "    \n",
    "    \n",
    "    for node in nodes:\n",
    "        uid = str(id(node))\n",
    "        print(node)\n",
    "        dot.node(name=uid, label=f\"{node.data:.4f}\", shape='record')\n",
    "        if node._op:\n",
    "            # this value was generated as a result of some operation, create an operation node\n",
    "            \n",
    "            dot.node(name=uid + node._op, label=node._op)\n",
    "            dot.edge(uid + node._op, uid)\n",
    "            \n",
    "    for n1, n2 in edges:\n",
    "        print(\"edge\", n1, n2)\n",
    "        dot.edge(str(id(n1)), str(id(n2)) + n2._op)\n",
    "        \n",
    "    return dot"
   ]
  },
  {
   "cell_type": "code",
   "execution_count": 84,
   "metadata": {},
   "outputs": [
    {
     "name": "stdout",
     "output_type": "stream",
     "text": [
      "Value(data=-6.0)\n",
      "Value(data=-3.0)\n",
      "Value(data=2.0)\n",
      "Value(data=4.0)\n",
      "Value(data=10.0)\n",
      "edge Value(data=-3.0) Value(data=-6.0)\n",
      "edge Value(data=-6.0) Value(data=4.0)\n",
      "edge Value(data=2.0) Value(data=-6.0)\n",
      "edge Value(data=10.0) Value(data=4.0)\n"
     ]
    },
    {
     "data": {
      "image/svg+xml": [
       "<?xml version=\"1.0\" encoding=\"UTF-8\" standalone=\"no\"?>\n",
       "<!DOCTYPE svg PUBLIC \"-//W3C//DTD SVG 1.1//EN\"\n",
       " \"http://www.w3.org/Graphics/SVG/1.1/DTD/svg11.dtd\">\n",
       "<!-- Generated by graphviz version 12.2.1 (20241206.2353)\n",
       " -->\n",
       "<!-- Pages: 1 -->\n",
       "<svg width=\"432pt\" height=\"127pt\"\n",
       " viewBox=\"0.00 0.00 432.25 127.00\" xmlns=\"http://www.w3.org/2000/svg\" xmlns:xlink=\"http://www.w3.org/1999/xlink\">\n",
       "<g id=\"graph0\" class=\"graph\" transform=\"scale(1 1) rotate(0) translate(4 123)\">\n",
       "<polygon fill=\"white\" stroke=\"none\" points=\"-4,4 -4,-123 428.25,-123 428.25,4 -4,4\"/>\n",
       "<!-- 2409053080592 -->\n",
       "<g id=\"node1\" class=\"node\">\n",
       "<title>2409053080592</title>\n",
       "<polygon fill=\"none\" stroke=\"black\" points=\"185.12,-27.5 185.12,-63.5 243.12,-63.5 243.12,-27.5 185.12,-27.5\"/>\n",
       "<text text-anchor=\"middle\" x=\"214.12\" y=\"-40.7\" font-family=\"Times New Roman,serif\" font-size=\"14.00\">&#45;6.0000</text>\n",
       "</g>\n",
       "<!-- 2409018259280+ -->\n",
       "<g id=\"node6\" class=\"node\">\n",
       "<title>2409018259280+</title>\n",
       "<ellipse fill=\"none\" stroke=\"black\" cx=\"307.25\" cy=\"-72.5\" rx=\"27\" ry=\"18\"/>\n",
       "<text text-anchor=\"middle\" x=\"307.25\" y=\"-67.45\" font-family=\"Times New Roman,serif\" font-size=\"14.00\">+</text>\n",
       "</g>\n",
       "<!-- 2409053080592&#45;&gt;2409018259280+ -->\n",
       "<g id=\"edge4\" class=\"edge\">\n",
       "<title>2409053080592&#45;&gt;2409018259280+</title>\n",
       "<path fill=\"none\" stroke=\"black\" d=\"M243.46,-53.89C252.22,-56.49 261.99,-59.39 271.15,-62.1\"/>\n",
       "<polygon fill=\"black\" stroke=\"black\" points=\"269.9,-65.38 280.48,-64.86 271.89,-58.67 269.9,-65.38\"/>\n",
       "</g>\n",
       "<!-- 2409053080592* -->\n",
       "<g id=\"node2\" class=\"node\">\n",
       "<title>2409053080592*</title>\n",
       "<ellipse fill=\"none\" stroke=\"black\" cx=\"121\" cy=\"-45.5\" rx=\"27\" ry=\"18\"/>\n",
       "<text text-anchor=\"middle\" x=\"121\" y=\"-40.45\" font-family=\"Times New Roman,serif\" font-size=\"14.00\">*</text>\n",
       "</g>\n",
       "<!-- 2409053080592*&#45;&gt;2409053080592 -->\n",
       "<g id=\"edge1\" class=\"edge\">\n",
       "<title>2409053080592*&#45;&gt;2409053080592</title>\n",
       "<path fill=\"none\" stroke=\"black\" d=\"M148.36,-45.5C156.24,-45.5 165.05,-45.5 173.58,-45.5\"/>\n",
       "<polygon fill=\"black\" stroke=\"black\" points=\"173.4,-49 183.4,-45.5 173.4,-42 173.4,-49\"/>\n",
       "</g>\n",
       "<!-- 2409073256208 -->\n",
       "<g id=\"node3\" class=\"node\">\n",
       "<title>2409073256208</title>\n",
       "<polygon fill=\"none\" stroke=\"black\" points=\"0,-55.5 0,-91.5 58,-91.5 58,-55.5 0,-55.5\"/>\n",
       "<text text-anchor=\"middle\" x=\"29\" y=\"-68.7\" font-family=\"Times New Roman,serif\" font-size=\"14.00\">&#45;3.0000</text>\n",
       "</g>\n",
       "<!-- 2409073256208&#45;&gt;2409053080592* -->\n",
       "<g id=\"edge3\" class=\"edge\">\n",
       "<title>2409073256208&#45;&gt;2409053080592*</title>\n",
       "<path fill=\"none\" stroke=\"black\" d=\"M58.48,-64.64C66.95,-62 76.33,-59.09 85.16,-56.34\"/>\n",
       "<polygon fill=\"black\" stroke=\"black\" points=\"85.99,-59.75 94.5,-53.43 83.91,-53.06 85.99,-59.75\"/>\n",
       "</g>\n",
       "<!-- 2409073258256 -->\n",
       "<g id=\"node4\" class=\"node\">\n",
       "<title>2409073258256</title>\n",
       "<polygon fill=\"none\" stroke=\"black\" points=\"2,-0.5 2,-36.5 56,-36.5 56,-0.5 2,-0.5\"/>\n",
       "<text text-anchor=\"middle\" x=\"29\" y=\"-13.7\" font-family=\"Times New Roman,serif\" font-size=\"14.00\">2.0000</text>\n",
       "</g>\n",
       "<!-- 2409073258256&#45;&gt;2409053080592* -->\n",
       "<g id=\"edge5\" class=\"edge\">\n",
       "<title>2409073258256&#45;&gt;2409053080592*</title>\n",
       "<path fill=\"none\" stroke=\"black\" d=\"M56.03,-26.31C65.06,-29.02 75.34,-32.1 84.97,-34.99\"/>\n",
       "<polygon fill=\"black\" stroke=\"black\" points=\"83.84,-38.31 94.43,-37.83 85.85,-31.6 83.84,-38.31\"/>\n",
       "</g>\n",
       "<!-- 2409018259280 -->\n",
       "<g id=\"node5\" class=\"node\">\n",
       "<title>2409018259280</title>\n",
       "<polygon fill=\"none\" stroke=\"black\" points=\"370.25,-54.5 370.25,-90.5 424.25,-90.5 424.25,-54.5 370.25,-54.5\"/>\n",
       "<text text-anchor=\"middle\" x=\"397.25\" y=\"-67.7\" font-family=\"Times New Roman,serif\" font-size=\"14.00\">4.0000</text>\n",
       "</g>\n",
       "<!-- 2409018259280+&#45;&gt;2409018259280 -->\n",
       "<g id=\"edge2\" class=\"edge\">\n",
       "<title>2409018259280+&#45;&gt;2409018259280</title>\n",
       "<path fill=\"none\" stroke=\"black\" d=\"M334.65,-72.5C342.14,-72.5 350.43,-72.5 358.45,-72.5\"/>\n",
       "<polygon fill=\"black\" stroke=\"black\" points=\"358.35,-76 368.35,-72.5 358.35,-69 358.35,-76\"/>\n",
       "</g>\n",
       "<!-- 2409071291344 -->\n",
       "<g id=\"node7\" class=\"node\">\n",
       "<title>2409071291344</title>\n",
       "<polygon fill=\"none\" stroke=\"black\" points=\"184,-82.5 184,-118.5 244.25,-118.5 244.25,-82.5 184,-82.5\"/>\n",
       "<text text-anchor=\"middle\" x=\"214.12\" y=\"-95.7\" font-family=\"Times New Roman,serif\" font-size=\"14.00\">10.0000</text>\n",
       "</g>\n",
       "<!-- 2409071291344&#45;&gt;2409018259280+ -->\n",
       "<g id=\"edge6\" class=\"edge\">\n",
       "<title>2409071291344&#45;&gt;2409018259280+</title>\n",
       "<path fill=\"none\" stroke=\"black\" d=\"M244.71,-91.41C253.26,-88.78 262.67,-85.89 271.51,-83.18\"/>\n",
       "<polygon fill=\"black\" stroke=\"black\" points=\"272.3,-86.59 280.83,-80.31 270.25,-79.9 272.3,-86.59\"/>\n",
       "</g>\n",
       "</g>\n",
       "</svg>\n"
      ],
      "text/plain": [
       "<graphviz.graphs.Digraph at 0x230e7d6ae10>"
      ]
     },
     "execution_count": 84,
     "metadata": {},
     "output_type": "execute_result"
    }
   ],
   "source": [
    "draw_dot(d)"
   ]
  }
 ],
 "metadata": {
  "kernelspec": {
   "display_name": "Python 3",
   "language": "python",
   "name": "python3"
  },
  "language_info": {
   "codemirror_mode": {
    "name": "ipython",
    "version": 3
   },
   "file_extension": ".py",
   "mimetype": "text/x-python",
   "name": "python",
   "nbconvert_exporter": "python",
   "pygments_lexer": "ipython3",
   "version": "3.11.1"
  }
 },
 "nbformat": 4,
 "nbformat_minor": 2
}
